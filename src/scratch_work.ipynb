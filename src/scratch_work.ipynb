{
 "metadata": {
  "language_info": {
   "codemirror_mode": {
    "name": "ipython",
    "version": 3
   },
   "file_extension": ".py",
   "mimetype": "text/x-python",
   "name": "python",
   "nbconvert_exporter": "python",
   "pygments_lexer": "ipython3",
   "version": 3
  },
  "orig_nbformat": 2,
  "kernelspec": {
   "name": "python_defaultSpec_1595289875028",
   "display_name": "Python 3.7.6 64-bit ('base': conda)"
  }
 },
 "nbformat": 4,
 "nbformat_minor": 2,
 "cells": [
  {
   "cell_type": "code",
   "execution_count": 136,
   "metadata": {},
   "outputs": [],
   "source": [
    "import numpy as np"
   ]
  },
  {
   "cell_type": "code",
   "execution_count": 137,
   "metadata": {},
   "outputs": [],
   "source": [
    "array = [np.random.randint(0, 100) for item in range(50)]"
   ]
  },
  {
   "cell_type": "code",
   "execution_count": 138,
   "metadata": {},
   "outputs": [
    {
     "output_type": "execute_result",
     "data": {
      "text/plain": "[88, 72, 38, 40, 27, 90, 37, 89, 11, 41]"
     },
     "metadata": {},
     "execution_count": 138
    }
   ],
   "source": [
    "array[:10]"
   ]
  },
  {
   "cell_type": "code",
   "execution_count": 139,
   "metadata": {},
   "outputs": [
    {
     "output_type": "execute_result",
     "data": {
      "text/plain": "[70, 66, 86, 27, 86, 62, 25, 32, 11, 81]"
     },
     "metadata": {},
     "execution_count": 139
    }
   ],
   "source": [
    "array[-10:]"
   ]
  },
  {
   "cell_type": "code",
   "execution_count": 140,
   "metadata": {},
   "outputs": [
    {
     "output_type": "execute_result",
     "data": {
      "text/plain": "50"
     },
     "metadata": {},
     "execution_count": 140
    }
   ],
   "source": [
    "len(array)"
   ]
  },
  {
   "cell_type": "code",
   "execution_count": 141,
   "metadata": {},
   "outputs": [],
   "source": [
    "# def insertion_sort(array):\n",
    "#     \"\"\"\n",
    "#     Sort the input array using the insertion sort algorithm.\n",
    "#     \"\"\"\n",
    "#     sorted_array = [array.pop()]\n",
    "#     while len(array) > 0:\n",
    "#         next = array.pop()\n",
    "#         insert_index = len(sorted_array) - 1\n",
    "#         while sorted_array[insert_index] >= next and insert_index >= 0:\n",
    "#             insert_index -= 1\n",
    "#         sorted_array.insert(insert_index + 1, next)\n",
    "#     return sorted_array"
   ]
  },
  {
   "cell_type": "code",
   "execution_count": 142,
   "metadata": {},
   "outputs": [],
   "source": [
    "def insertion_sort(array):\n",
    "    \"\"\"\n",
    "    Sort the input array using the insertion sort algorithm.\n",
    "    \"\"\"\n",
    "    sorted_array = [array[0]]\n",
    "    for item in array[1:]:\n",
    "        insert_index = len(sorted_array) - 1\n",
    "        while sorted_array[insert_index] >= item and insert_index >= 0:\n",
    "            insert_index -= 1\n",
    "        sorted_array.insert(insert_index + 1, item)\n",
    "    return sorted_array"
   ]
  },
  {
   "cell_type": "code",
   "execution_count": null,
   "metadata": {},
   "outputs": [],
   "source": [
    "def insertion_sort(array):\n",
    "    \"\"\"\n",
    "    Sort the input array using the insertion sort algorithm.\n",
    "    \"\"\"\n",
    "    # For every unsorted item:\n",
    "    for i in range(1, len(array)):\n",
    "        value = array[i]\n",
    "        # Look \"left\" through sorted values until we find the right place to insert value:\n",
    "        insert_index = i - 1\n",
    "        while insert_index >= 0 and value < array[insert_index]:\n",
    "            array[insert_index + 1] = array[insert_index]\n",
    "            insert_index -= 1\n",
    "        \n",
    "        # Insert the value at that place:\n",
    "        array[insert_index] = value\n",
    "\n",
    "    return array"
   ]
  },
  {
   "cell_type": "code",
   "execution_count": 143,
   "metadata": {},
   "outputs": [
    {
     "output_type": "execute_result",
     "data": {
      "text/plain": "[4,\n 10,\n 11,\n 11,\n 11,\n 11,\n 15,\n 15,\n 17,\n 17,\n 18,\n 25,\n 27,\n 27,\n 27,\n 28,\n 29,\n 31,\n 32,\n 36,\n 36,\n 37,\n 38,\n 40,\n 40,\n 41,\n 42,\n 49,\n 49,\n 62,\n 65,\n 66,\n 67,\n 70,\n 72,\n 73,\n 74,\n 81,\n 81,\n 82,\n 84,\n 86,\n 86,\n 88,\n 89,\n 90,\n 90,\n 90,\n 93,\n 95]"
     },
     "metadata": {},
     "execution_count": 143
    }
   ],
   "source": [
    "sorted_a = insertion_sort(array=array)\n",
    "sorted_a"
   ]
  },
  {
   "cell_type": "code",
   "execution_count": 144,
   "metadata": {},
   "outputs": [
    {
     "output_type": "execute_result",
     "data": {
      "text/plain": "50"
     },
     "metadata": {},
     "execution_count": 144
    }
   ],
   "source": [
    "len(sorted_a)"
   ]
  },
  {
   "cell_type": "code",
   "execution_count": null,
   "metadata": {},
   "outputs": [],
   "source": []
  }
 ]
}